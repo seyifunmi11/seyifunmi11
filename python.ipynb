{
  "nbformat": 4,
  "nbformat_minor": 0,
  "metadata": {
    "colab": {
      "provenance": [],
      "toc_visible": true,
      "authorship_tag": "ABX9TyNiMpKEAMjs/JbGXo0wa1BA",
      "include_colab_link": true
    },
    "kernelspec": {
      "name": "python3",
      "display_name": "Python 3"
    },
    "language_info": {
      "name": "python"
    }
  },
  "cells": [
    {
      "cell_type": "markdown",
      "metadata": {
        "id": "view-in-github",
        "colab_type": "text"
      },
      "source": [
        "<a href=\"https://colab.research.google.com/github/seyifunmi11/seyifunmi11/blob/main/python.ipynb\" target=\"_parent\"><img src=\"https://colab.research.google.com/assets/colab-badge.svg\" alt=\"Open In Colab\"/></a>"
      ]
    },
    {
      "cell_type": "code",
      "execution_count": null,
      "metadata": {
        "id": "AB91DnB3_E7B"
      },
      "outputs": [],
      "source": []
    },
    {
      "cell_type": "code",
      "source": [
        "universe_age = 14_000_000_000\n",
        "print(universe_age)\n",
        "print(\"Hello Python people!\")\n",
        "#get a list of first name\n",
        "my_firstname = (\"john\",\"seun\",\"tosin\",\"chinedu\",\"eniola\")\n",
        "# get a list of last name\n",
        "my_lastname = (\"babcock\",\"General\",\"Hospital\")\n",
        "print"
      ],
      "metadata": {
        "colab": {
          "base_uri": "https://localhost:8080/"
        },
        "id": "_LM-jVOX_LPJ",
        "outputId": "d4f8ea1d-dcb7-43cf-e812-ae1413f3cd31"
      },
      "execution_count": 3,
      "outputs": [
        {
          "output_type": "stream",
          "name": "stdout",
          "text": [
            "14000000000\n",
            "Hello Python people!\n"
          ]
        }
      ]
    },
    {
      "cell_type": "code",
      "source": [
        "my_firstname = [\"john\",\"seun\",\"tosin\",\"chinedu\",\"eniola\"]\n",
        "my_lastname = [\"babcock\",\"General\",\"Hospital\",\"University\",\"Lagos\"]\n",
        "for first_name in my_firstname:\n",
        "    for last_name in my_lastname:\n",
        "        print(f\"{first_name} {last_name}\")"
      ],
      "metadata": {
        "colab": {
          "base_uri": "https://localhost:8080/"
        },
        "id": "kgRfpPsdNWZo",
        "outputId": "fdfcc666-98e4-4f93-b66d-a68a15eef1b5"
      },
      "execution_count": 4,
      "outputs": [
        {
          "output_type": "stream",
          "name": "stdout",
          "text": [
            "john babcock\n",
            "john General\n",
            "john Hospital\n",
            "john University\n",
            "john Lagos\n",
            "seun babcock\n",
            "seun General\n",
            "seun Hospital\n",
            "seun University\n",
            "seun Lagos\n",
            "tosin babcock\n",
            "tosin General\n",
            "tosin Hospital\n",
            "tosin University\n",
            "tosin Lagos\n",
            "chinedu babcock\n",
            "chinedu General\n",
            "chinedu Hospital\n",
            "chinedu University\n",
            "chinedu Lagos\n",
            "eniola babcock\n",
            "eniola General\n",
            "eniola Hospital\n",
            "eniola University\n",
            "eniola Lagos\n"
          ]
        }
      ]
    },
    {
      "cell_type": "code",
      "source": [
        "my_firstname = [\"john\",\"seun\",\"tosin\",\"chinedu\",\"eniola\"]\n",
        "my_lastname = [\"babcock\",\"General\",\"Hospital\",\"University\",\"Lagos\"]\n",
        "fullname=[]\n",
        "if len(my_firstname) == len(my_lastname):\n",
        " for i in range(len(my_firstname)):\n",
        "  for j in range(len(my_lastname)):\n",
        "    print(f\"\"+ fullname.append(my_firstname[i] + \" \" + my_lastname[j]))"
      ],
      "metadata": {
        "colab": {
          "base_uri": "https://localhost:8080/",
          "height": 176
        },
        "id": "kbj5_1KsRsfS",
        "outputId": "6402e287-6743-43b7-9578-8f8f90299eec"
      },
      "execution_count": 11,
      "outputs": [
        {
          "output_type": "error",
          "ename": "TypeError",
          "evalue": "can only concatenate str (not \"NoneType\") to str",
          "traceback": [
            "\u001b[0;31m---------------------------------------------------------------------------\u001b[0m",
            "\u001b[0;31mTypeError\u001b[0m                                 Traceback (most recent call last)",
            "\u001b[0;32m<ipython-input-11-7fb5e325b653>\u001b[0m in \u001b[0;36m<cell line: 4>\u001b[0;34m()\u001b[0m\n\u001b[1;32m      5\u001b[0m  \u001b[0;32mfor\u001b[0m \u001b[0mi\u001b[0m \u001b[0;32min\u001b[0m \u001b[0mrange\u001b[0m\u001b[0;34m(\u001b[0m\u001b[0mlen\u001b[0m\u001b[0;34m(\u001b[0m\u001b[0mmy_firstname\u001b[0m\u001b[0;34m)\u001b[0m\u001b[0;34m)\u001b[0m\u001b[0;34m:\u001b[0m\u001b[0;34m\u001b[0m\u001b[0;34m\u001b[0m\u001b[0m\n\u001b[1;32m      6\u001b[0m   \u001b[0;32mfor\u001b[0m \u001b[0mj\u001b[0m \u001b[0;32min\u001b[0m \u001b[0mrange\u001b[0m\u001b[0;34m(\u001b[0m\u001b[0mlen\u001b[0m\u001b[0;34m(\u001b[0m\u001b[0mmy_lastname\u001b[0m\u001b[0;34m)\u001b[0m\u001b[0;34m)\u001b[0m\u001b[0;34m:\u001b[0m\u001b[0;34m\u001b[0m\u001b[0;34m\u001b[0m\u001b[0m\n\u001b[0;32m----> 7\u001b[0;31m     \u001b[0mprint\u001b[0m\u001b[0;34m(\u001b[0m\u001b[0;34mf\"\"\u001b[0m\u001b[0;34m+\u001b[0m \u001b[0mfullname\u001b[0m\u001b[0;34m.\u001b[0m\u001b[0mappend\u001b[0m\u001b[0;34m(\u001b[0m\u001b[0mmy_firstname\u001b[0m\u001b[0;34m[\u001b[0m\u001b[0mi\u001b[0m\u001b[0;34m]\u001b[0m \u001b[0;34m+\u001b[0m \u001b[0;34m\" \"\u001b[0m \u001b[0;34m+\u001b[0m \u001b[0mmy_lastname\u001b[0m\u001b[0;34m[\u001b[0m\u001b[0mj\u001b[0m\u001b[0;34m]\u001b[0m\u001b[0;34m)\u001b[0m\u001b[0;34m)\u001b[0m\u001b[0;34m\u001b[0m\u001b[0;34m\u001b[0m\u001b[0m\n\u001b[0m",
            "\u001b[0;31mTypeError\u001b[0m: can only concatenate str (not \"NoneType\") to str"
          ]
        }
      ]
    },
    {
      "cell_type": "code",
      "source": [
        "set1 = {\"Alice\", \"Bob\", \"Charlie\", \"David\", \"Eva\"}\n",
        "set2 = {\"Frank\", \"Grace\", \"Hannah\", \"Ivy\", \"Jack\"}\n",
        "# Combining the two sets\n",
        "combined_set = set1.union(set2)\n",
        "# Printing the combined set\n",
        "print(combined_set)\n",
        "\n",
        "my_name = \"John\"\n",
        "score = 40\n",
        "if score > 90:\n",
        "    print (\"Grade A\")\n",
        "elif score >= 80:\n",
        "    print (\"Grade B\")\n",
        "elif score >= 70:\n",
        "    print (\"Grade C\")\n",
        "elif score >= 60:\n",
        "    print (\"Grade D\")\n",
        "elif score >= 50:\n",
        "    print (\"Grade E\")\n",
        "else:\n",
        "    print (my_name +\" \"+ (\"Kindly put more effort next time\"))"
      ],
      "metadata": {
        "colab": {
          "base_uri": "https://localhost:8080/"
        },
        "id": "nh8B7s-AUkhX",
        "outputId": "4a7582e0-5050-4051-80d3-9fb51d149209"
      },
      "execution_count": 8,
      "outputs": [
        {
          "output_type": "stream",
          "name": "stdout",
          "text": [
            "{'David', 'Hannah', 'Eva', 'Bob', 'Charlie', 'Jack', 'Frank', 'Ivy', 'Alice', 'Grace'}\n",
            "John Kindly put more effort next time\n"
          ]
        }
      ]
    },
    {
      "cell_type": "code",
      "source": [
        "# Lists of first names and last names\n",
        "first_names = [\"Alice\", \"Bob\", \"Charlie\", \"Diana\", \"Eve\"]\n",
        "last_names = [\"Smith\", \"Johnson\", \"Williams\", \"Brown\", \"Jones\"]\n",
        "\n",
        "# Ensure the lists are of the same length\n",
        "if len(first_names) == len(last_names):\n",
        "    # Loop through each index and print the corresponding first name and last name\n",
        "    for i in range(len(first_names)):\n",
        "        print(f\"{first_names[i]} {last_names[i]}\")\n",
        "else:\n",
        "    print(\"The lists of first names and last names are not of the same length.\")\n"
      ],
      "metadata": {
        "colab": {
          "base_uri": "https://localhost:8080/"
        },
        "id": "pgFBg7fqbqiG",
        "outputId": "e0cef9c8-a39b-4fce-84f4-aaf22b2ac64e"
      },
      "execution_count": 9,
      "outputs": [
        {
          "output_type": "stream",
          "name": "stdout",
          "text": [
            "Alice Smith\n",
            "Bob Johnson\n",
            "Charlie Williams\n",
            "Diana Brown\n",
            "Eve Jones\n"
          ]
        }
      ]
    },
    {
      "cell_type": "code",
      "source": [
        "my_firstname = [\"john\", \"seun\", \"tosin\", \"chinedu\", \"eniola\"]\n",
        "my_lastname = [\"babcock\", \"General\", \"Hospital\", \"University\", \"Lagos\"]\n",
        "fullname = []\n",
        "\n",
        "# Manually specify the desired pairs using indices\n",
        "desired_pairs = [(0, 3), (1, 1), (2, 0), (3, 2), (4, 4)]\n",
        "\n",
        "for first_idx, last_idx in desired_pairs:\n",
        "    # Combine the first name and last name using the specified indices\n",
        "    full_name = my_firstname[first_idx] + \" \" + my_lastname[last_idx]\n",
        "    # Append the full name to the list\n",
        "    fullname.append(full_name)\n",
        "    # Print the full name\n",
        "    print(full_name)"
      ],
      "metadata": {
        "colab": {
          "base_uri": "https://localhost:8080/"
        },
        "id": "isR2rw3EiICV",
        "outputId": "47231372-7e93-4f58-ea64-416cd2ff4a0c"
      },
      "execution_count": 14,
      "outputs": [
        {
          "output_type": "stream",
          "name": "stdout",
          "text": [
            "john University\n",
            "seun General\n",
            "tosin babcock\n",
            "chinedu Hospital\n",
            "eniola Lagos\n"
          ]
        }
      ]
    }
  ]
}